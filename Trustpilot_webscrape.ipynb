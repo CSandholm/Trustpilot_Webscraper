{
 "cells": [
  {
   "cell_type": "code",
   "execution_count": 1,
   "id": "0193b7a7",
   "metadata": {},
   "outputs": [],
   "source": [
    "import requests\n",
    "import pandas as pd\n",
    "import numpy\n",
    "from bs4 import BeautifulSoup\n",
    "import datetime as dt\n",
    "import locale"
   ]
  },
  {
   "cell_type": "code",
   "execution_count": 2,
   "id": "7cd884d9",
   "metadata": {},
   "outputs": [
    {
     "data": {
      "text/plain": [
       "'Swedish_Sweden.1252'"
      ]
     },
     "execution_count": 2,
     "metadata": {},
     "output_type": "execute_result"
    }
   ],
   "source": [
    "#locale.setlocale(locale.LC_TIME, \"sv_SE.UTF-8\") #Unix/Linux?\n",
    "locale.setlocale(locale.LC_TIME, 'swedish')"
   ]
  },
  {
   "cell_type": "code",
   "execution_count": 3,
   "id": "78b9e49a",
   "metadata": {},
   "outputs": [],
   "source": [
    "url = \"https://se.trustpilot.com/review/anicura.se?page={1}\""
   ]
  },
  {
   "cell_type": "code",
   "execution_count": 4,
   "id": "9050e396",
   "metadata": {},
   "outputs": [],
   "source": [
    "response = requests.get(url)"
   ]
  },
  {
   "cell_type": "code",
   "execution_count": 5,
   "id": "a034809b",
   "metadata": {},
   "outputs": [],
   "source": [
    "soup = BeautifulSoup(response.text, 'html.parser')"
   ]
  },
  {
   "cell_type": "code",
   "execution_count": 6,
   "id": "e9d548e1",
   "metadata": {},
   "outputs": [],
   "source": [
    "first_page = 1\n",
    "to_page = 71"
   ]
  },
  {
   "cell_type": "code",
   "execution_count": 7,
   "id": "6ef2e366",
   "metadata": {},
   "outputs": [],
   "source": [
    "titles = []\n",
    "origin_dates = []\n",
    "dates = []\n",
    "ratings = []\n",
    "review_texts = []\n",
    "pages = []"
   ]
  },
  {
   "cell_type": "code",
   "execution_count": 8,
   "id": "c0848629",
   "metadata": {},
   "outputs": [],
   "source": [
    "replacements = {\n",
    "    \"jan\": \"Januari\",\n",
    "    \"feb\": \"Februari\",\n",
    "    \"apr\": \"April\",\n",
    "    #\"mar\": \"Mars\",\n",
    "    #\"maj\": \"Maj\",\n",
    "    #\"jun\": \"Juni\",\n",
    "    #\"jul\": \"Juli\",\n",
    "    \"aug\": \"Augusti\",\n",
    "    \"sep\": \"September\",\n",
    "    \"okt\": \"Oktober\",\n",
    "    \"nov\": \"November\",\n",
    "    \"dec\": \"December\",  \n",
    "}"
   ]
  },
  {
   "cell_type": "code",
   "execution_count": 9,
   "id": "a539efbf",
   "metadata": {},
   "outputs": [],
   "source": [
    "def full_origin_date_text(origin_date):\n",
    "    origin_date = origin_date.lower()\n",
    "    origin_date = origin_date.replace('upplevelsen ägde rum: ', \"\")\n",
    "    origin_date = origin_date.replace(\"uppdaterad \", \"\")\n",
    "    origin_date = origin_date.replace(\".\", \"\").lower()\n",
    "    for abb, full in replacements.items():\n",
    "        origin_date = origin_date.replace(abb, full)\n",
    "    return origin_date"
   ]
  },
  {
   "cell_type": "code",
   "execution_count": 10,
   "id": "63358dec",
   "metadata": {},
   "outputs": [],
   "source": [
    "def full_date_text(date):\n",
    "    date = date.lower()\n",
    "    date = date.replace('upplevelsen ägde rum: ', \"\")\n",
    "    date = date.replace(\".\", \"\").lower()\n",
    "    return date"
   ]
  },
  {
   "cell_type": "code",
   "execution_count": 11,
   "id": "22f4f1cd",
   "metadata": {},
   "outputs": [],
   "source": [
    "def date_to_datetime_object(date):\n",
    "    if \"timmar sedan\" in date.lower() or \"timme sedan\" in date.lower():\n",
    "        date = dt.datetime.now().date()\n",
    "    elif \"en dag sedan\" in date.lower():\n",
    "        date = dt.datetime.now().date() - dt.timedelta(days=1)\n",
    "    elif \"dagar sedan\" in date.lower():\n",
    "        date = dt.datetime.now().date() - dt.timedelta(days=int(date[0]))\n",
    "    else:\n",
    "        date = dt.datetime.strptime(date, \"%d %B %Y\").date()\n",
    "        \n",
    "    return date"
   ]
  },
  {
   "cell_type": "code",
   "execution_count": 12,
   "id": "46ce2b03",
   "metadata": {},
   "outputs": [],
   "source": [
    "for i in range(first_page, to_page +1):\n",
    "    response = requests.get(f\"https://se.trustpilot.com/review/anicura.se?page={i}\")\n",
    "    page = response.text\n",
    "    soup = BeautifulSoup(page, \"html.parser\")\n",
    "    \n",
    "    for review in soup.find_all(class_ = \"paper_paper__1PY90 paper_outline__lwsUX card_card__lQWDv card_noPadding__D8PcU styles_reviewCard__hcAvl\"):\n",
    "        #titles\n",
    "        title = review.find(class_ = \"link_internal__7XN06 typography_appearance-default__AAY17 typography_color-inherit__TlgPO link_link__IZzHN link_notUnderlined__szqki\")\n",
    "        titles.append(title.getText())\n",
    "        \n",
    "        #if we want one or both dates\n",
    "        origin_date = review.select_one(selector=\"time\")\n",
    "        origin_date = full_origin_date_text(origin_date.getText())\n",
    "        origin_date = date_to_datetime_object(origin_date)\n",
    "        origin_dates.append(origin_date)\n",
    "        \n",
    "        #date text to datetime objects\n",
    "        date = review.find(class_=\"typography_body-m__xgxZ_ typography_appearance-default__AAY17\").getText().replace(\"uppdaterad \", \"\")\n",
    "        date = full_date_text(date)\n",
    "        date = date_to_datetime_object(date)\n",
    "        dates.append(date)\n",
    "        \n",
    "        #ratings\n",
    "        rating = review.find(class_ = \"star-rating_starRating__4rrcf star-rating_medium__iN6Ty\").findChild()\n",
    "        ratings.append(rating[\"alt\"])\n",
    "        \n",
    "        # text or no text\n",
    "        text = review.find(class_ = \"typography_body-l__KUYFJ typography_appearance-default__AAY17 typography_color-black__5LYEn\")\n",
    "        if text == None:\n",
    "            review_texts.append(\"\")\n",
    "        else:\n",
    "            review_texts.append(text.getText())\n",
    "            \n",
    "        #pagenumber\n",
    "        pages.append(i)\n",
    "        "
   ]
  },
  {
   "cell_type": "code",
   "execution_count": 13,
   "id": "623e9324",
   "metadata": {},
   "outputs": [],
   "source": [
    "df_reviews = pd.DataFrame(list(zip(titles, origin_dates,dates, ratings, review_texts, pages)),\n",
    "                         columns =[\"Title\", \"Review Date\",\"Date\", \"Rating\", \"Text\", \"Page\"])"
   ]
  },
  {
   "cell_type": "code",
   "execution_count": 14,
   "id": "89822a7b",
   "metadata": {},
   "outputs": [
    {
     "data": {
      "text/html": [
       "<div>\n",
       "<style scoped>\n",
       "    .dataframe tbody tr th:only-of-type {\n",
       "        vertical-align: middle;\n",
       "    }\n",
       "\n",
       "    .dataframe tbody tr th {\n",
       "        vertical-align: top;\n",
       "    }\n",
       "\n",
       "    .dataframe thead th {\n",
       "        text-align: right;\n",
       "    }\n",
       "</style>\n",
       "<table border=\"1\" class=\"dataframe\">\n",
       "  <thead>\n",
       "    <tr style=\"text-align: right;\">\n",
       "      <th></th>\n",
       "      <th>Title</th>\n",
       "      <th>Review Date</th>\n",
       "      <th>Date</th>\n",
       "      <th>Rating</th>\n",
       "      <th>Text</th>\n",
       "      <th>Page</th>\n",
       "    </tr>\n",
       "  </thead>\n",
       "  <tbody>\n",
       "    <tr>\n",
       "      <th>0</th>\n",
       "      <td>5 stjärnor för AniCura Högsby</td>\n",
       "      <td>2024-03-15</td>\n",
       "      <td>2024-03-15</td>\n",
       "      <td>Betygsatt 5 av 5 stjärnor</td>\n",
       "      <td>AniCura i Högsby är en underbar veterinärklini...</td>\n",
       "      <td>1</td>\n",
       "    </tr>\n",
       "    <tr>\n",
       "      <th>1</th>\n",
       "      <td>Ni är helt suveräna</td>\n",
       "      <td>2024-03-07</td>\n",
       "      <td>2024-03-06</td>\n",
       "      <td>Betygsatt 5 av 5 stjärnor</td>\n",
       "      <td>Ni är helt suveräna. Ringde i panik i tisdagse...</td>\n",
       "      <td>1</td>\n",
       "    </tr>\n",
       "    <tr>\n",
       "      <th>2</th>\n",
       "      <td>\"Vill du boka tid? Vi ringer upp sen. På hemli...</td>\n",
       "      <td>2024-03-11</td>\n",
       "      <td>2024-03-06</td>\n",
       "      <td>Betygsatt 1 av 5 stjärnor</td>\n",
       "      <td>Nu ska det sitta en mötesbokare och ringa upp ...</td>\n",
       "      <td>1</td>\n",
       "    </tr>\n",
       "    <tr>\n",
       "      <th>3</th>\n",
       "      <td>Engagerad personal</td>\n",
       "      <td>2023-09-29</td>\n",
       "      <td>2023-09-25</td>\n",
       "      <td>Betygsatt 5 av 5 stjärnor</td>\n",
       "      <td>Engagerad personal! För två år sedan saknade e...</td>\n",
       "      <td>1</td>\n",
       "    </tr>\n",
       "    <tr>\n",
       "      <th>4</th>\n",
       "      <td>Tryggt, snabbt och proffsigt!</td>\n",
       "      <td>2023-09-25</td>\n",
       "      <td>2023-09-24</td>\n",
       "      <td>Betygsatt 5 av 5 stjärnor</td>\n",
       "      <td>Mycket värt att slippa bli runtskickad i telef...</td>\n",
       "      <td>1</td>\n",
       "    </tr>\n",
       "    <tr>\n",
       "      <th>...</th>\n",
       "      <td>...</td>\n",
       "      <td>...</td>\n",
       "      <td>...</td>\n",
       "      <td>...</td>\n",
       "      <td>...</td>\n",
       "      <td>...</td>\n",
       "    </tr>\n",
       "    <tr>\n",
       "      <th>1414</th>\n",
       "      <td>otippat dåligt</td>\n",
       "      <td>2019-02-20</td>\n",
       "      <td>2019-02-20</td>\n",
       "      <td>Betygsatt 1 av 5 stjärnor</td>\n",
       "      <td>Så fin personal men företaget verkar ha löpt a...</td>\n",
       "      <td>71</td>\n",
       "    </tr>\n",
       "    <tr>\n",
       "      <th>1415</th>\n",
       "      <td>Ockrare</td>\n",
       "      <td>2018-09-10</td>\n",
       "      <td>2018-09-10</td>\n",
       "      <td>Betygsatt 1 av 5 stjärnor</td>\n",
       "      <td>VI fick betala nästan 4000kr för att titta til...</td>\n",
       "      <td>71</td>\n",
       "    </tr>\n",
       "    <tr>\n",
       "      <th>1416</th>\n",
       "      <td>Missnöjd</td>\n",
       "      <td>2018-12-29</td>\n",
       "      <td>2018-09-08</td>\n",
       "      <td>Betygsatt 2 av 5 stjärnor</td>\n",
       "      <td>Katten fick operera tassen. Skulle byta bandag...</td>\n",
       "      <td>71</td>\n",
       "    </tr>\n",
       "    <tr>\n",
       "      <th>1417</th>\n",
       "      <td>Oseriösa</td>\n",
       "      <td>2018-03-02</td>\n",
       "      <td>2018-03-02</td>\n",
       "      <td>Betygsatt 1 av 5 stjärnor</td>\n",
       "      <td>Oseriösa, röriga, lögnare och väldigt okunniga...</td>\n",
       "      <td>71</td>\n",
       "    </tr>\n",
       "    <tr>\n",
       "      <th>1418</th>\n",
       "      <td>Anicura Gärdet otrevligt i receptionen</td>\n",
       "      <td>2017-04-05</td>\n",
       "      <td>2017-04-05</td>\n",
       "      <td>Betygsatt 3 av 5 stjärnor</td>\n",
       "      <td>Anicura Gärdet otrevligt i receptionen. Otrevl...</td>\n",
       "      <td>71</td>\n",
       "    </tr>\n",
       "  </tbody>\n",
       "</table>\n",
       "<p>1419 rows × 6 columns</p>\n",
       "</div>"
      ],
      "text/plain": [
       "                                                  Title Review Date  \\\n",
       "0                         5 stjärnor för AniCura Högsby  2024-03-15   \n",
       "1                                   Ni är helt suveräna  2024-03-07   \n",
       "2     \"Vill du boka tid? Vi ringer upp sen. På hemli...  2024-03-11   \n",
       "3                                    Engagerad personal  2023-09-29   \n",
       "4                         Tryggt, snabbt och proffsigt!  2023-09-25   \n",
       "...                                                 ...         ...   \n",
       "1414                                     otippat dåligt  2019-02-20   \n",
       "1415                                            Ockrare  2018-09-10   \n",
       "1416                                           Missnöjd  2018-12-29   \n",
       "1417                                           Oseriösa  2018-03-02   \n",
       "1418             Anicura Gärdet otrevligt i receptionen  2017-04-05   \n",
       "\n",
       "            Date                     Rating  \\\n",
       "0     2024-03-15  Betygsatt 5 av 5 stjärnor   \n",
       "1     2024-03-06  Betygsatt 5 av 5 stjärnor   \n",
       "2     2024-03-06  Betygsatt 1 av 5 stjärnor   \n",
       "3     2023-09-25  Betygsatt 5 av 5 stjärnor   \n",
       "4     2023-09-24  Betygsatt 5 av 5 stjärnor   \n",
       "...          ...                        ...   \n",
       "1414  2019-02-20  Betygsatt 1 av 5 stjärnor   \n",
       "1415  2018-09-10  Betygsatt 1 av 5 stjärnor   \n",
       "1416  2018-09-08  Betygsatt 2 av 5 stjärnor   \n",
       "1417  2018-03-02  Betygsatt 1 av 5 stjärnor   \n",
       "1418  2017-04-05  Betygsatt 3 av 5 stjärnor   \n",
       "\n",
       "                                                   Text  Page  \n",
       "0     AniCura i Högsby är en underbar veterinärklini...     1  \n",
       "1     Ni är helt suveräna. Ringde i panik i tisdagse...     1  \n",
       "2     Nu ska det sitta en mötesbokare och ringa upp ...     1  \n",
       "3     Engagerad personal! För två år sedan saknade e...     1  \n",
       "4     Mycket värt att slippa bli runtskickad i telef...     1  \n",
       "...                                                 ...   ...  \n",
       "1414  Så fin personal men företaget verkar ha löpt a...    71  \n",
       "1415  VI fick betala nästan 4000kr för att titta til...    71  \n",
       "1416  Katten fick operera tassen. Skulle byta bandag...    71  \n",
       "1417  Oseriösa, röriga, lögnare och väldigt okunniga...    71  \n",
       "1418  Anicura Gärdet otrevligt i receptionen. Otrevl...    71  \n",
       "\n",
       "[1419 rows x 6 columns]"
      ]
     },
     "execution_count": 14,
     "metadata": {},
     "output_type": "execute_result"
    }
   ],
   "source": [
    "df_reviews"
   ]
  },
  {
   "cell_type": "code",
   "execution_count": 19,
   "id": "4555045f",
   "metadata": {},
   "outputs": [],
   "source": [
    "#df_reviews.to_csv('TrustPilot_Anicuira.csv', index=False, encoding='utf-8')"
   ]
  },
  {
   "cell_type": "code",
   "execution_count": null,
   "id": "fa3a8baa",
   "metadata": {},
   "outputs": [],
   "source": []
  }
 ],
 "metadata": {
  "kernelspec": {
   "display_name": "Python Scrape Env",
   "language": "python",
   "name": "scrape_env"
  },
  "language_info": {
   "codemirror_mode": {
    "name": "ipython",
    "version": 3
   },
   "file_extension": ".py",
   "mimetype": "text/x-python",
   "name": "python",
   "nbconvert_exporter": "python",
   "pygments_lexer": "ipython3",
   "version": "3.10.14"
  }
 },
 "nbformat": 4,
 "nbformat_minor": 5
}
